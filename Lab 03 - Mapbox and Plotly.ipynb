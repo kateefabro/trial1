{
 "cells": [
  {
   "cell_type": "markdown",
   "id": "3331c689-4076-415e-98cb-0128419f260d",
   "metadata": {},
   "source": [
    "# Lab 03 - Visualizing Geospatial Data in Plotly"
   ]
  },
  {
   "cell_type": "code",
   "execution_count": null,
   "id": "e022ea18-f04a-4f5d-bd14-e75c42c7af7f",
   "metadata": {},
   "outputs": [],
   "source": [
    "import pandas as pd\n",
    "import numpy as np\n",
    "import geopandas as gpd\n",
    "import matplotlib.pyplot as plt\n",
    "import plotly.express as px\n",
    "\n",
    "from pathlib import Path\n",
    "\n",
    "%pylab inline"
   ]
  },
  {
   "cell_type": "code",
   "execution_count": null,
   "id": "4568a5a7-a266-44a5-b6d4-42f4cff265fe",
   "metadata": {},
   "outputs": [],
   "source": [
    "## Only run this on Google Colab\n",
    "# !pip install geopandas plotly"
   ]
  },
  {
   "cell_type": "code",
   "execution_count": null,
   "id": "55113fc2-7ac7-48d4-b69d-2b6a7e7456f3",
   "metadata": {},
   "outputs": [],
   "source": [
    "## Only do this if you're working on Google Colab\n",
    "\n",
    "# from google.colab import drive\n",
    "# drive.mount('/gdrive')\n",
    "# %cd /gdrive"
   ]
  },
  {
   "cell_type": "code",
   "execution_count": null,
   "id": "72096d04-c31e-43cf-9a50-c7c3659978b5",
   "metadata": {},
   "outputs": [],
   "source": [
    "# when using Google Colab\n",
    "# dataset_folder = Path('/gdrive/MyDrive/datasets')\n",
    "\n",
    "# when using local folder\n",
    "dataset_folder = Path('datasets/')"
   ]
  },
  {
   "cell_type": "markdown",
   "id": "49f3f2c9-7b5b-41b8-b3b5-6aaaa07461bc",
   "metadata": {},
   "source": [
    "## Reading in the Transformed Data\n",
    "\n",
    "To make things easier for us for the Dash translation, let's test first the visuals we want to build in a notebook."
   ]
  },
  {
   "cell_type": "code",
   "execution_count": null,
   "id": "ed9e1ee4-c645-405e-be36-1c42bb588fbb",
   "metadata": {},
   "outputs": [],
   "source": [
    "educ_sites = gpd.read_file('datasets/hotosm_phl_education_facilities.shp')\n",
    "amenity_gdf = gpd.read_file('datasets/ph_educ_by_amenity.geojson', driver='GeoJSON')\n",
    "operatorty_gdf = gpd.read_file('datasets/ph_educ_by_operatorty.geojson', driver='GeoJSON')"
   ]
  },
  {
   "cell_type": "markdown",
   "id": "a83cd6e3-ef9d-4201-95ed-5cfd555f1604",
   "metadata": {},
   "source": [
    "### Use the Mapbox Token\n",
    "\n",
    "Use the default public token available to you when you sign up for an account in [Mapbox](https://mapbox.com)\n",
    "\n",
    "Save it in a plain text file called `.mapbox_token`\n",
    "\n",
    "We would need this token for the base map themes that are available from Mapbox."
   ]
  },
  {
   "cell_type": "code",
   "execution_count": null,
   "id": "b4a5759b-eeaa-4332-96b6-f5a19b7b9632",
   "metadata": {},
   "outputs": [],
   "source": [
    "px.set_mapbox_access_token(open(\".mapbox_token\").read())"
   ]
  },
  {
   "cell_type": "code",
   "execution_count": null,
   "id": "07c0fc01-883e-4581-a0d0-c2d64e849876",
   "metadata": {},
   "outputs": [],
   "source": [
    "educ_sites.head()"
   ]
  },
  {
   "cell_type": "markdown",
   "id": "515f379a-5ee1-448c-a134-ac854a0ea9c8",
   "metadata": {},
   "source": [
    "## Scatter Map\n",
    "\n",
    "We previously created the scatter map using the GADM base polygons and the `educ_sites` data. \n",
    "\n",
    "Since we're using Mapbox, we can now just visualize the `educ_sites` directly because Mapbox handles the base map for us (with labels!)\n",
    "\n",
    "Reference: [Plotly Documentation](https://plotly.com/python/scattermapbox/)"
   ]
  },
  {
   "cell_type": "code",
   "execution_count": null,
   "id": "4ee9461f-a245-494f-a827-27c603912f71",
   "metadata": {},
   "outputs": [],
   "source": [
    "fig = px.scatter_mapbox(educ_sites, \n",
    "                        lat=educ_sites.geometry.y,\n",
    "                        lon=educ_sites.geometry.x,\n",
    "                        hover_name=\"name\",\n",
    "                        color=\"amenity\",\n",
    "                        zoom=7)\n",
    "fig.show()"
   ]
  },
  {
   "cell_type": "markdown",
   "id": "4cee628e-465d-49e5-b9bc-1fd499dfd4e2",
   "metadata": {},
   "source": [
    "### Cluster Map\n",
    "\n",
    "It is also possible to show clustered numbers instead of individual points. \n",
    "\n",
    "But tooltips will be limited and the points will only display when the map is zoomed in."
   ]
  },
  {
   "cell_type": "code",
   "execution_count": null,
   "id": "9260f6ae-c7c0-4735-99c6-aad15816200f",
   "metadata": {},
   "outputs": [],
   "source": [
    "fig = px.scatter_mapbox(educ_sites, \n",
    "                        lat=educ_sites.geometry.y,\n",
    "                        lon=educ_sites.geometry.x,\n",
    "                        hover_name=\"name\",\n",
    "                        color=\"amenity\",\n",
    "                        zoom=7)\n",
    "fig.update_traces(cluster=dict(enabled=True))\n",
    "fig.show()"
   ]
  },
  {
   "cell_type": "markdown",
   "id": "7de9aacc-83e2-4285-82a0-47e0da2e2835",
   "metadata": {},
   "source": [
    "## Choropleth Maps\n",
    "\n",
    "We also created choropleth maps using the pivot tables we created.\n",
    "\n",
    "Reference: [Plotly Documentation](https://plotly.com/python/mapbox-county-choropleth/)\n",
    "\n",
    "In the documentation, when [using GeoPandas DataFrames](https://plotly.com/python/mapbox-county-choropleth/#using-geopandas-data-frames), the geometry is accessed and there is a `locations` attribute which requires the `index` of the DataFrame.\n",
    "\n",
    "```python\n",
    "import plotly.express as px\n",
    "import geopandas as gpd\n",
    "\n",
    "df = px.data.election()\n",
    "geo_df = gpd.GeoDataFrame.from_features(\n",
    "    px.data.election_geojson()[\"features\"]\n",
    ").merge(df, on=\"district\").set_index(\"district\")\n",
    "\n",
    "fig = px.choropleth_mapbox(geo_df,\n",
    "                           geojson=geo_df.geometry,\n",
    "                           locations=geo_df.index,\n",
    "                           color=\"Joly\",\n",
    "                           center={\"lat\": 45.5517, \"lon\": -73.7073},\n",
    "                           mapbox_style=\"open-street-map\",\n",
    "                           zoom=8.5)\n",
    "fig.show()\n",
    "```\n",
    "\n",
    "A trick to show the name of the location as the index is to set is as the index of the GeoDataFrame to be used in the `plotly.express` graph."
   ]
  },
  {
   "cell_type": "code",
   "execution_count": null,
   "id": "0b5a188c-36af-4873-9c27-e403931ed243",
   "metadata": {},
   "outputs": [],
   "source": [
    "amenity_gdf_indexed = amenity_gdf.set_index('province')"
   ]
  },
  {
   "cell_type": "code",
   "execution_count": null,
   "id": "e5cc7006-fb1c-48ce-8a86-df8d7824b899",
   "metadata": {},
   "outputs": [],
   "source": [
    "amenity_gdf_indexed.head()"
   ]
  },
  {
   "cell_type": "code",
   "execution_count": null,
   "id": "db9a57d4-f504-4475-b611-b7a5766c651a",
   "metadata": {},
   "outputs": [],
   "source": [
    "fig = px.choropleth_mapbox(amenity_gdf_indexed,\n",
    "                           geojson=amenity_gdf_indexed.geometry,\n",
    "                           locations=amenity_gdf_indexed.index,\n",
    "                           color='school',\n",
    "                           center={'lat': 12.099568, 'lon': 122.733168},\n",
    "                           zoom=4)\n",
    "fig.show()"
   ]
  },
  {
   "cell_type": "code",
   "execution_count": null,
   "id": "b4d5402f-672f-4f0f-9746-0103ec266e11",
   "metadata": {},
   "outputs": [],
   "source": [
    "operatorty_gdf_indexed = operatorty_gdf.set_index('province')"
   ]
  },
  {
   "cell_type": "code",
   "execution_count": null,
   "id": "4e245205-54ff-401b-b375-9593d516f68a",
   "metadata": {},
   "outputs": [],
   "source": [
    "operatorty_gdf_indexed.head()"
   ]
  },
  {
   "cell_type": "code",
   "execution_count": null,
   "id": "5f98abcd-7126-430e-8c59-7f32ba5f6d69",
   "metadata": {},
   "outputs": [],
   "source": [
    "fig = px.choropleth_mapbox(operatorty_gdf,\n",
    "                           geojson=operatorty_gdf.geometry,\n",
    "                           locations=operatorty_gdf.index,\n",
    "                           color='public',\n",
    "                           center={'lat': 12.099568, 'lon': 122.733168},\n",
    "                           zoom=4)\n",
    "fig.show()"
   ]
  },
  {
   "cell_type": "markdown",
   "id": "5dc86ba3-3fd3-4aab-9748-8a8b83687185",
   "metadata": {},
   "source": [
    "### Retrieving the options for the dropdown\n",
    "\n",
    "In our case, the DataFrame does not have the options in a single column. But it can be derived from the columns (since they are in sequence!)\n",
    "\n",
    "We'll maximize the use of array slicing (a key Python / data wrangling skill!)"
   ]
  },
  {
   "cell_type": "code",
   "execution_count": null,
   "id": "4c8c7efd-d7d3-4794-bac4-06a9ffa84d09",
   "metadata": {},
   "outputs": [],
   "source": [
    "amenity_gdf.columns"
   ]
  },
  {
   "cell_type": "code",
   "execution_count": null,
   "id": "1391689d-5e25-498f-869d-844fd07c3d7b",
   "metadata": {},
   "outputs": [],
   "source": [
    "amenity_gdf.columns[4:-1]"
   ]
  },
  {
   "cell_type": "code",
   "execution_count": null,
   "id": "04fd4303-a257-4853-b3f0-1222d6dd1098",
   "metadata": {},
   "outputs": [],
   "source": [
    "operatorty_gdf.columns[4:-1]"
   ]
  },
  {
   "cell_type": "markdown",
   "id": "826c8e5e-0741-4e20-bf4d-acca11f72c03",
   "metadata": {},
   "source": [
    "## Additional visualizations\n",
    "\n",
    "Choropleth maps are nice in showing the distribution, but sometimes the data is hard to decipher. A good way to supplement the data is by showing a bar graph of the counts on the side.\n",
    "\n",
    "For more colormaps available, check the documentation about [colors in Plotly](https://plotly.com/python/colorscales/)."
   ]
  },
  {
   "cell_type": "code",
   "execution_count": null,
   "id": "2b287673-d4fb-46f2-a193-caf705527264",
   "metadata": {},
   "outputs": [],
   "source": [
    "sorted_df = operatorty_gdf_indexed.sort_values(by='public')\n",
    "px.bar(sorted_df, x='public', y=sorted_df.index, color_continuous_scale='teal', color='public', template='plotly_white')"
   ]
  },
  {
   "cell_type": "code",
   "execution_count": null,
   "id": "29f2ea12-7f4d-4959-a1ad-92f1029bc935",
   "metadata": {},
   "outputs": [],
   "source": []
  }
 ],
 "metadata": {
  "kernelspec": {
   "display_name": "Python 3 (ipykernel)",
   "language": "python",
   "name": "python3"
  },
  "language_info": {
   "codemirror_mode": {
    "name": "ipython",
    "version": 3
   },
   "file_extension": ".py",
   "mimetype": "text/x-python",
   "name": "python",
   "nbconvert_exporter": "python",
   "pygments_lexer": "ipython3",
   "version": "3.8.12"
  }
 },
 "nbformat": 4,
 "nbformat_minor": 5
}
